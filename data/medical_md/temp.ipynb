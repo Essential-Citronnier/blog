{
 "cells": [
  {
   "cell_type": "code",
   "execution_count": 11,
   "metadata": {},
   "outputs": [
    {
     "name": "stdout",
     "output_type": "stream",
     "text": [
      "{'반동압통': '복막자극징후'}\n"
     ]
    }
   ],
   "source": [
    "import json\n",
    "\n",
    "def extract_json_from_markdown(file_path):\n",
    "    # 마크다운 파일 읽기\n",
    "    with open(file_path, 'r', encoding='utf-8') as file:\n",
    "        markdown_content = file.read()\n",
    "\n",
    "    # 마크다운 안의 JSON 부분 찾기 (```json 으로 시작하고 ```으로 끝나는 부분)\n",
    "    start_idx = markdown_content.find('```json')\n",
    "    end_idx = markdown_content.find('```', start_idx + 6)\n",
    "\n",
    "    if start_idx == -1 or end_idx == -1:\n",
    "        raise ValueError(\"마크다운 파일에서 JSON 블록을 찾을 수 없습니다.\")\n",
    "\n",
    "    # JSON 문자열 추출\n",
    "    json_str = markdown_content[start_idx + 6:end_idx].strip()\n",
    "\n",
    "    # n 또는 불필요한 시작 부분 제거\n",
    "    json_str = json_str.lstrip('n').strip()\n",
    "\n",
    "    # JSON 파싱\n",
    "    try:\n",
    "        json_data = json.loads(json_str)\n",
    "    except json.JSONDecodeError as e:\n",
    "        print(f\"JSON 파싱 오류: {e}\")\n",
    "        print(f\"문제의 JSON 문자열: {json_str}\")\n",
    "        raise ValueError(\"JSON 파싱에 실패했습니다.\")\n",
    "\n",
    "    return json_data\n",
    "\n",
    "# 마크다운 파일에서 JSON을 추출하는 예시\n",
    "file_path = 'clinical presentations.md'\n",
    "json_data = extract_json_from_markdown(file_path)\n",
    "print(json_data)\n"
   ]
  }
 ],
 "metadata": {
  "kernelspec": {
   "display_name": "base",
   "language": "python",
   "name": "python3"
  },
  "language_info": {
   "codemirror_mode": {
    "name": "ipython",
    "version": 3
   },
   "file_extension": ".py",
   "mimetype": "text/x-python",
   "name": "python",
   "nbconvert_exporter": "python",
   "pygments_lexer": "ipython3",
   "version": "3.11.7"
  }
 },
 "nbformat": 4,
 "nbformat_minor": 2
}
